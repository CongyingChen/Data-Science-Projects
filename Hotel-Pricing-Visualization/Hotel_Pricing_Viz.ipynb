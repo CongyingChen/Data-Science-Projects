{
 "cells": [
  {
   "cell_type": "markdown",
   "metadata": {},
   "source": [
    "# Hotel Pricing Visualization for a Market"
   ]
  },
  {
   "cell_type": "markdown",
   "metadata": {},
   "source": [
    "This tool is for visualizing the abnormal hotel pricing for revenue maagement team. "
   ]
  },
  {
   "cell_type": "markdown",
   "metadata": {},
   "source": [
    "### Load Data"
   ]
  },
  {
   "cell_type": "code",
   "execution_count": 1,
   "metadata": {},
   "outputs": [],
   "source": [
    "import plotly.plotly as py\n",
    "import pandas as pd \n",
    "import plotly.graph_objs as go\n",
    "import plotly\n",
    "import plotly.graph_objs as go\n",
    "from plotly.offline import *\n",
    "import colorlover as cl\n",
    "from IPython.display import HTML"
   ]
  },
  {
   "cell_type": "code",
   "execution_count": 2,
   "metadata": {},
   "outputs": [
    {
     "data": {
      "text/html": [
       "<div>\n",
       "<style scoped>\n",
       "    .dataframe tbody tr th:only-of-type {\n",
       "        vertical-align: middle;\n",
       "    }\n",
       "\n",
       "    .dataframe tbody tr th {\n",
       "        vertical-align: top;\n",
       "    }\n",
       "\n",
       "    .dataframe thead th {\n",
       "        text-align: right;\n",
       "    }\n",
       "</style>\n",
       "<table border=\"1\" class=\"dataframe\">\n",
       "  <thead>\n",
       "    <tr style=\"text-align: right;\">\n",
       "      <th></th>\n",
       "      <th>expedia_hotel_id</th>\n",
       "      <th>price</th>\n",
       "      <th>date</th>\n",
       "      <th>hotel</th>\n",
       "      <th>native_currency</th>\n",
       "      <th>market_id</th>\n",
       "      <th>market</th>\n",
       "    </tr>\n",
       "  </thead>\n",
       "  <tbody>\n",
       "    <tr>\n",
       "      <th>0</th>\n",
       "      <td>3482162</td>\n",
       "      <td>274.85</td>\n",
       "      <td>2019-05-18</td>\n",
       "      <td>HYATT house Shelton</td>\n",
       "      <td>USD</td>\n",
       "      <td>1664</td>\n",
       "      <td>New Haven</td>\n",
       "    </tr>\n",
       "    <tr>\n",
       "      <th>1</th>\n",
       "      <td>3482162</td>\n",
       "      <td>223.16</td>\n",
       "      <td>2019-05-19</td>\n",
       "      <td>HYATT house Shelton</td>\n",
       "      <td>USD</td>\n",
       "      <td>1664</td>\n",
       "      <td>New Haven</td>\n",
       "    </tr>\n",
       "    <tr>\n",
       "      <th>2</th>\n",
       "      <td>3482162</td>\n",
       "      <td>239.26</td>\n",
       "      <td>2019-05-20</td>\n",
       "      <td>HYATT house Shelton</td>\n",
       "      <td>USD</td>\n",
       "      <td>1664</td>\n",
       "      <td>New Haven</td>\n",
       "    </tr>\n",
       "    <tr>\n",
       "      <th>3</th>\n",
       "      <td>3482162</td>\n",
       "      <td>206.48</td>\n",
       "      <td>2019-05-21</td>\n",
       "      <td>HYATT house Shelton</td>\n",
       "      <td>USD</td>\n",
       "      <td>1664</td>\n",
       "      <td>New Haven</td>\n",
       "    </tr>\n",
       "    <tr>\n",
       "      <th>4</th>\n",
       "      <td>3482162</td>\n",
       "      <td>206.48</td>\n",
       "      <td>2019-05-22</td>\n",
       "      <td>HYATT house Shelton</td>\n",
       "      <td>USD</td>\n",
       "      <td>1664</td>\n",
       "      <td>New Haven</td>\n",
       "    </tr>\n",
       "  </tbody>\n",
       "</table>\n",
       "</div>"
      ],
      "text/plain": [
       "   expedia_hotel_id   price        date                hotel native_currency  \\\n",
       "0           3482162  274.85  2019-05-18  HYATT house Shelton             USD   \n",
       "1           3482162  223.16  2019-05-19  HYATT house Shelton             USD   \n",
       "2           3482162  239.26  2019-05-20  HYATT house Shelton             USD   \n",
       "3           3482162  206.48  2019-05-21  HYATT house Shelton             USD   \n",
       "4           3482162  206.48  2019-05-22  HYATT house Shelton             USD   \n",
       "\n",
       "   market_id     market  \n",
       "0       1664  New Haven  \n",
       "1       1664  New Haven  \n",
       "2       1664  New Haven  \n",
       "3       1664  New Haven  \n",
       "4       1664  New Haven  "
      ]
     },
     "execution_count": 2,
     "metadata": {},
     "output_type": "execute_result"
    }
   ],
   "source": [
    "df = pd.read_csv(\"hotel_pricing.csv\") \n",
    "df.head()"
   ]
  },
  {
   "cell_type": "markdown",
   "metadata": {},
   "source": [
    "### Plot a Interactive Graph for Identifying the Outlier Quickly"
   ]
  },
  {
   "cell_type": "code",
   "execution_count": 3,
   "metadata": {},
   "outputs": [],
   "source": [
    "traces = []\n",
    "\n",
    "for i in set(df[\"expedia_hotel_id\"]):\n",
    "    #print (i)\n",
    "    #print(df[df[\"expedia_hotel_id\"] == i][\"price\"].head())\n",
    "    list(df[df[\"expedia_hotel_id\"] == i][\"price\"])\n",
    "    \n",
    "    hotel= df[df[\"expedia_hotel_id\"] == i][\"hotel\"]\n",
    "    tt_name = str(i) + \" \" + list(hotel)[1]\n",
    "    #print(str(i) + \" \" + list(hotel)[1])\n",
    "    \n",
    "    traces.append(go.Scatter(\n",
    "        x=list(df[df[\"expedia_hotel_id\"] == i][\"date\"]),\n",
    "        y=list(df[df[\"expedia_hotel_id\"] == i][\"price\"]),\n",
    "        mode='lines',\n",
    "        name = tt_name,\n",
    "        #line=dict(color=colors[i], width=line_size[i]),\n",
    "        connectgaps=True,\n",
    "    ))\n",
    "\n",
    "fig = go.Figure(data=traces)\n",
    "#plotly.offline.plot(fig, filename='hotel_pricing_simple.html') #offline plotting\n",
    "#py.iplot(fig, filename='news-source') #online ploting"
   ]
  },
  {
   "cell_type": "markdown",
   "metadata": {},
   "source": [
    "### Upgraded Graph to Hilight the Hotel Pricing Interested"
   ]
  },
  {
   "cell_type": "code",
   "execution_count": 7,
   "metadata": {},
   "outputs": [],
   "source": [
    "#set color scale\n",
    "scl = cl.scales['11'] \n",
    "#scl *= 5\n",
    "#HTML( cl.to_html( scl ) )"
   ]
  },
  {
   "cell_type": "code",
   "execution_count": 17,
   "metadata": {},
   "outputs": [
    {
     "data": {
      "text/plain": [
       "'hotel_pricing.html'"
      ]
     },
     "execution_count": 17,
     "metadata": {},
     "output_type": "execute_result"
    }
   ],
   "source": [
    "btns = [] \n",
    "\n",
    "for i in range(len(fig['data'])):\n",
    "    colors = ['rgba(169,169,169,0.2)']*len(fig['data'])\n",
    "    colors[i] = 'red'\n",
    "    btns.append(\n",
    "        dict(\n",
    "            args = [{ 'line.color': colors, 'line.width': 2 }],\n",
    "            label = fig['data'][i]['name'],\n",
    "            method = 'restyle',\n",
    "        )\n",
    "    )\n",
    "\n",
    "updatemenus=list([\n",
    "    dict(\n",
    "        #setting location of the drop down menu\n",
    "        direction = 'down',\n",
    "        pad = {'r': 10, 't': 10},\n",
    "        showactive = True,\n",
    "        x = 0.0,\n",
    "        xanchor = 'left',\n",
    "        y = 1.12,\n",
    "        yanchor = 'top',  \n",
    "        \n",
    "        buttons=btns                     \n",
    "    ),\n",
    "    dict(\n",
    "        #setting location of the reset color button\n",
    "        direction = 'down',\n",
    "        pad = {'r': 10, 't': 10},\n",
    "        showactive = True,\n",
    "        x = 0.42,\n",
    "        xanchor = 'left',\n",
    "        y = 1.12,\n",
    "        yanchor = 'top',            \n",
    "\n",
    "        type = 'buttons',\n",
    "        buttons=[dict(\n",
    "            args = [{'line.color': scl, 'line.width': 2}],\n",
    "            label = 'Reset Colors',\n",
    "            method = 'restyle', \n",
    "        )],\n",
    "        \n",
    "    )    \n",
    "    ])\n",
    "\n",
    "market = df[\"market\"]\n",
    "title = 'Hotel Pricing for'+ ' ' + list(market)[1]\n",
    "layout = go.Layout(\n",
    "    title= title\n",
    ")\n",
    "\n",
    "\n",
    "fig['layout'] = layout\n",
    "\n",
    "fig['layout']['plot_bgcolor'] = 'white'\n",
    "fig['layout']['hovermode'] = 'x'\n",
    "fig['layout']['xaxis']['title'] = 'Date'\n",
    "fig['layout']['xaxis']['zeroline'] = False\n",
    "fig['layout']['yaxis']['title'] = 'Price'\n",
    "fig['layout']['updatemenus'] = updatemenus\n",
    "fig['layout']['margin']['t'] = 0\n",
    "\n",
    "\n",
    "\n",
    "\n",
    "\n",
    "\n",
    "#plot the final graph\n",
    "plotly.offline.plot( fig, filename = 'hotel_pricing.html' )"
   ]
  },
  {
   "cell_type": "code",
   "execution_count": null,
   "metadata": {},
   "outputs": [],
   "source": []
  },
  {
   "cell_type": "code",
   "execution_count": null,
   "metadata": {},
   "outputs": [],
   "source": []
  },
  {
   "cell_type": "code",
   "execution_count": null,
   "metadata": {},
   "outputs": [],
   "source": []
  },
  {
   "cell_type": "code",
   "execution_count": null,
   "metadata": {},
   "outputs": [],
   "source": []
  }
 ],
 "metadata": {
  "kernelspec": {
   "display_name": "Python 3",
   "language": "python",
   "name": "python3"
  },
  "language_info": {
   "codemirror_mode": {
    "name": "ipython",
    "version": 3
   },
   "file_extension": ".py",
   "mimetype": "text/x-python",
   "name": "python",
   "nbconvert_exporter": "python",
   "pygments_lexer": "ipython3",
   "version": "3.7.3"
  }
 },
 "nbformat": 4,
 "nbformat_minor": 2
}
