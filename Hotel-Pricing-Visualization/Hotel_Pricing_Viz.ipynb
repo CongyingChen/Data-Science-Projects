{
 "cells": [
  {
   "cell_type": "markdown",
   "metadata": {},
   "source": [
    "# Hotel Pricing Visualization for a Market"
   ]
  },
  {
   "cell_type": "markdown",
   "metadata": {},
   "source": [
    "This tool is for visualizing the abnormal hotel pricing for revenue maagement team. "
   ]
  },
  {
   "cell_type": "markdown",
   "metadata": {},
   "source": [
    "### Load Data"
   ]
  },
  {
   "cell_type": "code",
   "execution_count": 6,
   "metadata": {},
   "outputs": [],
   "source": [
    "import plotly.plotly as py\n",
    "import pandas as pd \n",
    "import plotly.graph_objs as go\n",
    "import plotly\n",
    "import plotly.graph_objs as go\n",
    "from plotly.offline import *\n",
    "import colorlover as cl\n",
    "from IPython.display import HTML"
   ]
  },
  {
   "cell_type": "code",
   "execution_count": 7,
   "metadata": {},
   "outputs": [
    {
     "data": {
      "text/html": [
       "<div>\n",
       "<style scoped>\n",
       "    .dataframe tbody tr th:only-of-type {\n",
       "        vertical-align: middle;\n",
       "    }\n",
       "\n",
       "    .dataframe tbody tr th {\n",
       "        vertical-align: top;\n",
       "    }\n",
       "\n",
       "    .dataframe thead th {\n",
       "        text-align: right;\n",
       "    }\n",
       "</style>\n",
       "<table border=\"1\" class=\"dataframe\">\n",
       "  <thead>\n",
       "    <tr style=\"text-align: right;\">\n",
       "      <th></th>\n",
       "      <th>expedia_hotel_id</th>\n",
       "      <th>price</th>\n",
       "      <th>date</th>\n",
       "      <th>hotel</th>\n",
       "      <th>native_currency</th>\n",
       "      <th>market_id</th>\n",
       "      <th>market</th>\n",
       "    </tr>\n",
       "  </thead>\n",
       "  <tbody>\n",
       "    <tr>\n",
       "      <th>0</th>\n",
       "      <td>9395154</td>\n",
       "      <td>158.42</td>\n",
       "      <td>2019-05-25</td>\n",
       "      <td>Home2 Suites by Hilton Bellingham Airport</td>\n",
       "      <td>USD</td>\n",
       "      <td>1683</td>\n",
       "      <td>Bellingham</td>\n",
       "    </tr>\n",
       "    <tr>\n",
       "      <th>1</th>\n",
       "      <td>9395154</td>\n",
       "      <td>158.34</td>\n",
       "      <td>2019-05-26</td>\n",
       "      <td>Home2 Suites by Hilton Bellingham Airport</td>\n",
       "      <td>USD</td>\n",
       "      <td>1683</td>\n",
       "      <td>Bellingham</td>\n",
       "    </tr>\n",
       "    <tr>\n",
       "      <th>2</th>\n",
       "      <td>9395154</td>\n",
       "      <td>158.34</td>\n",
       "      <td>2019-05-27</td>\n",
       "      <td>Home2 Suites by Hilton Bellingham Airport</td>\n",
       "      <td>USD</td>\n",
       "      <td>1683</td>\n",
       "      <td>Bellingham</td>\n",
       "    </tr>\n",
       "    <tr>\n",
       "      <th>3</th>\n",
       "      <td>9395154</td>\n",
       "      <td>158.34</td>\n",
       "      <td>2019-05-28</td>\n",
       "      <td>Home2 Suites by Hilton Bellingham Airport</td>\n",
       "      <td>USD</td>\n",
       "      <td>1683</td>\n",
       "      <td>Bellingham</td>\n",
       "    </tr>\n",
       "    <tr>\n",
       "      <th>4</th>\n",
       "      <td>9395154</td>\n",
       "      <td>158.34</td>\n",
       "      <td>2019-05-29</td>\n",
       "      <td>Home2 Suites by Hilton Bellingham Airport</td>\n",
       "      <td>USD</td>\n",
       "      <td>1683</td>\n",
       "      <td>Bellingham</td>\n",
       "    </tr>\n",
       "  </tbody>\n",
       "</table>\n",
       "</div>"
      ],
      "text/plain": [
       "   expedia_hotel_id   price        date  \\\n",
       "0           9395154  158.42  2019-05-25   \n",
       "1           9395154  158.34  2019-05-26   \n",
       "2           9395154  158.34  2019-05-27   \n",
       "3           9395154  158.34  2019-05-28   \n",
       "4           9395154  158.34  2019-05-29   \n",
       "\n",
       "                                       hotel native_currency  market_id  \\\n",
       "0  Home2 Suites by Hilton Bellingham Airport             USD       1683   \n",
       "1  Home2 Suites by Hilton Bellingham Airport             USD       1683   \n",
       "2  Home2 Suites by Hilton Bellingham Airport             USD       1683   \n",
       "3  Home2 Suites by Hilton Bellingham Airport             USD       1683   \n",
       "4  Home2 Suites by Hilton Bellingham Airport             USD       1683   \n",
       "\n",
       "       market  \n",
       "0  Bellingham  \n",
       "1  Bellingham  \n",
       "2  Bellingham  \n",
       "3  Bellingham  \n",
       "4  Bellingham  "
      ]
     },
     "execution_count": 7,
     "metadata": {},
     "output_type": "execute_result"
    }
   ],
   "source": [
    "df = pd.read_csv(\"hotel_pricing.csv\") \n",
    "df.head()"
   ]
  },
  {
   "cell_type": "markdown",
   "metadata": {},
   "source": [
    "### Plot a Interactive Graph for Identifying the Outlier Quickly"
   ]
  },
  {
   "cell_type": "code",
   "execution_count": 8,
   "metadata": {},
   "outputs": [],
   "source": [
    "traces = []\n",
    "\n",
    "for i in set(df[\"expedia_hotel_id\"]):\n",
    "    #print (i)\n",
    "    #print(df[df[\"expedia_hotel_id\"] == i][\"price\"].head())\n",
    "    list(df[df[\"expedia_hotel_id\"] == i][\"price\"])\n",
    "    \n",
    "    hotel= df[df[\"expedia_hotel_id\"] == i][\"hotel\"]\n",
    "    tt_name = str(i) + \" \" + list(hotel)[1]\n",
    "    #print(str(i) + \" \" + list(hotel)[1])\n",
    "    \n",
    "    traces.append(go.Scatter(\n",
    "        x=list(df[df[\"expedia_hotel_id\"] == i][\"date\"]),\n",
    "        y=list(df[df[\"expedia_hotel_id\"] == i][\"price\"]),\n",
    "        mode='lines',\n",
    "        name = tt_name,\n",
    "        #line=dict(color=colors[i], width=line_size[i]),\n",
    "        connectgaps=True,\n",
    "    ))\n",
    "\n",
    "fig = go.Figure(data=traces)\n",
    "#plotly.offline.plot(fig, filename='hotel_pricing_simple.html') #offline plotting\n",
    "#py.iplot(fig, filename='news-source') #online ploting"
   ]
  },
  {
   "cell_type": "markdown",
   "metadata": {},
   "source": [
    "### Upgraded Graph to Hilight the Hotel Pricing Interested"
   ]
  },
  {
   "cell_type": "code",
   "execution_count": 9,
   "metadata": {},
   "outputs": [],
   "source": [
    "#set color scale\n",
    "scl = cl.scales['11'] \n",
    "#scl *= 5\n",
    "#HTML( cl.to_html( scl ) )"
   ]
  },
  {
   "cell_type": "code",
   "execution_count": 20,
   "metadata": {},
   "outputs": [
    {
     "data": {
      "text/plain": [
       "'hotel_pricing_Bellingham (1683).html'"
      ]
     },
     "execution_count": 20,
     "metadata": {},
     "output_type": "execute_result"
    }
   ],
   "source": [
    "btns = [] \n",
    "\n",
    "for i in range(len(fig['data'])):\n",
    "    colors = ['rgba(169,169,169,0.2)']*len(fig['data'])\n",
    "    colors[i] = 'red'\n",
    "    btns.append(\n",
    "        dict(\n",
    "            args = [{ 'line.color': colors, 'line.width': 2 }],\n",
    "            label = fig['data'][i]['name'],\n",
    "            method = 'restyle',\n",
    "        )\n",
    "    )\n",
    "\n",
    "updatemenus=list([\n",
    "    dict(\n",
    "        #setting location of the drop down menu\n",
    "        direction = 'down',\n",
    "        pad = {'r': 10, 't': 10},\n",
    "        showactive = True,\n",
    "        x = 0.0,\n",
    "        xanchor = 'left',\n",
    "        y = 1.12,\n",
    "        yanchor = 'top',  \n",
    "        \n",
    "        buttons=btns                     \n",
    "    ),\n",
    "    dict(\n",
    "        #setting location of the reset color button\n",
    "        direction = 'down',\n",
    "        pad = {'r': 10, 't': 10},\n",
    "        showactive = True,\n",
    "        x = 0.42,\n",
    "        xanchor = 'left',\n",
    "        y = 1.12,\n",
    "        yanchor = 'top',            \n",
    "\n",
    "        type = 'buttons',\n",
    "        buttons=[dict(\n",
    "            args = [{'line.color': scl, 'line.width': 2}],\n",
    "            label = 'Reset Colors',\n",
    "            method = 'restyle', \n",
    "        )],\n",
    "        \n",
    "    )    \n",
    "    ])\n",
    "\n",
    "market = df[\"market\"]\n",
    "market_id = df[\"market_id\"]\n",
    "title = 'Hotel Pricing for'+ ' ' + list(market)[1] + \" (\" + str(list(market_id)[1]) + \")\"\n",
    "layout = go.Layout(\n",
    "    title= title\n",
    ")\n",
    "\n",
    "\n",
    "fig['layout'] = layout\n",
    "\n",
    "fig['layout']['plot_bgcolor'] = 'white'\n",
    "fig['layout']['hovermode'] = 'x'\n",
    "fig['layout']['xaxis']['title'] = 'Date'\n",
    "fig['layout']['xaxis']['zeroline'] = False\n",
    "fig['layout']['yaxis']['title'] = 'Price'\n",
    "fig['layout']['updatemenus'] = updatemenus\n",
    "fig['layout']['margin']['t'] = 0\n",
    "\n",
    "\n",
    "\n",
    "\n",
    "\n",
    "\n",
    "#plot the final graph\n",
    "plotly.offline.plot( fig, filename = 'hotel_pricing_' + list(market)[1] + \" (\" + str(list(market_id)[1]) + \")\"+'.html' )"
   ]
  },
  {
   "cell_type": "code",
   "execution_count": null,
   "metadata": {},
   "outputs": [],
   "source": []
  },
  {
   "cell_type": "markdown",
   "metadata": {},
   "source": [
    "## Get Connect to PopSQL"
   ]
  },
  {
   "cell_type": "code",
   "execution_count": null,
   "metadata": {},
   "outputs": [],
   "source": [
    "import pyodbc \n",
    "conn = pyodbc.connect('Driver={SQL Server};'\n",
    "                      'Server=server_name;'\n",
    "                      'Database=db_name;'\n",
    "                      'Trusted_Connection=yes;')\n",
    "\n",
    "cursor = conn.cursor()\n",
    "cursor.execute('SELECT * FROM db_name.Table')\n",
    "\n",
    "for row in cursor:\n",
    "    print(row)"
   ]
  },
  {
   "cell_type": "code",
   "execution_count": null,
   "metadata": {},
   "outputs": [],
   "source": []
  }
 ],
 "metadata": {
  "kernelspec": {
   "display_name": "Python 3",
   "language": "python",
   "name": "python3"
  },
  "language_info": {
   "codemirror_mode": {
    "name": "ipython",
    "version": 3
   },
   "file_extension": ".py",
   "mimetype": "text/x-python",
   "name": "python",
   "nbconvert_exporter": "python",
   "pygments_lexer": "ipython3",
   "version": "3.7.3"
  }
 },
 "nbformat": 4,
 "nbformat_minor": 2
}
